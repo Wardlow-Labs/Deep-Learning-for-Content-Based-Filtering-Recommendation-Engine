{
 "cells": [
  {
   "cell_type": "markdown",
   "id": "863e203e-febb-400d-a683-871be3f9844e",
   "metadata": {},
   "source": [
    "# Deep Learning for Content-Based Filtering Recommendation Engine"
   ]
  },
  {
   "cell_type": "markdown",
   "id": "48378768-06d9-4419-9d00-4cf834b75943",
   "metadata": {},
   "source": [
    "## 1 - Import Packages"
   ]
  },
  {
   "cell_type": "code",
   "execution_count": 1,
   "id": "3b94714f-bbaf-44a3-9811-c5abdd3f17b2",
   "metadata": {},
   "outputs": [],
   "source": [
    "import numpy as np\n",
    "import numpy.ma as ma\n",
    "import pandas as pd\n",
    "import tensorflow as tf\n",
    "from tensorflow import keras\n",
    "from sklearn.preprocessing import StandardScaler, MinMaxScaler\n",
    "from sklearn.model_selection import train_test_split\n",
    "import tabulate\n",
    "from recsysNN_utils import *\n",
    "pd.set_option(\"display.precision\", 1)"
   ]
  },
  {
   "cell_type": "code",
   "execution_count": null,
   "id": "db006e04-c958-44ee-9876-10c5d1e879af",
   "metadata": {},
   "outputs": [],
   "source": []
  }
 ],
 "metadata": {
  "kernelspec": {
   "display_name": "Python 3 (ipykernel)",
   "language": "python",
   "name": "python3"
  },
  "language_info": {
   "codemirror_mode": {
    "name": "ipython",
    "version": 3
   },
   "file_extension": ".py",
   "mimetype": "text/x-python",
   "name": "python",
   "nbconvert_exporter": "python",
   "pygments_lexer": "ipython3",
   "version": "3.11.4"
  }
 },
 "nbformat": 4,
 "nbformat_minor": 5
}
